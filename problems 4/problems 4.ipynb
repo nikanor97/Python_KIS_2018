{
 "cells": [
  {
   "cell_type": "markdown",
   "metadata": {},
   "source": [
    "# Задание 4"
   ]
  },
  {
   "cell_type": "markdown",
   "metadata": {},
   "source": [
    "## 1. Декоратор @cached (0.3 балла)"
   ]
  },
  {
   "cell_type": "markdown",
   "metadata": {},
   "source": [
    "#### Реализуйте класс для хранения результатов выполнения функции\n",
    "\n",
    "* max_count - максимальное число хранимых результатов. Если число результатов превышает max_count, требуется выбросить первый результат, т. е. в кеше должно храниться не более max_count последних результатов.\n",
    "* продумайте архитектуру кеша так, чтобы для функций:\n",
    "\n",
    "<code>\n",
    "@cached\n",
    "def f1():\n",
    "    pass\n",
    "\n",
    "@cached\n",
    "def f2():\n",
    "    pass\n",
    "</code>    \n",
    "должны иметь по max_count хранимых последних результатов, и т. д.\n",
    "\n",
    "<b>P. S.</b>\n",
    "\n",
    "* Считайте, что функция не имеет состояния (зависит только от передаваемых в нее аргументов).\n",
    "* Храните данные так, чтобы из функции нельзя напрямую было получить закешированные результаты (только через \\_\\_closer\\_\\_).\n",
    "\n",
    "<b>Рекомендации:</b>\n",
    "\n",
    "* Для хранения данных используйте OrderedDict.\n",
    "* Декорируйте wrapper с @functools.wraps(func)"
   ]
  },
  {
   "cell_type": "code",
   "execution_count": 183,
   "metadata": {},
   "outputs": [],
   "source": [
    "from collections import OrderedDict\n",
    "\n",
    "class LruCache(object):\n",
    "    def __init__(self, max_count):\n",
    "        self.storage = OrderedDict()\n",
    "        self.max_count = max_count\n",
    "\n",
    "    def __getitem__(self, key):\n",
    "        return self.storage.get(key)\n",
    "\n",
    "    def __setitem__(self, key, value):\n",
    "        if len(self.storage) >= self.max_count:\n",
    "            self.storage.popitem(last=False)\n",
    "        self.storage[key] = value"
   ]
  },
  {
   "cell_type": "markdown",
   "metadata": {},
   "source": [
    "#### Реализуйте декоратор"
   ]
  },
  {
   "cell_type": "code",
   "execution_count": 184,
   "metadata": {},
   "outputs": [],
   "source": [
    "import functools\n",
    "from datetime import datetime\n",
    "\n",
    "def cached(max_count):\n",
    "    lc = LruCache(max_count)\n",
    "    def decorator(func):\n",
    "        @functools.wraps(func)\n",
    "        def wrapper(n):\n",
    "            if lc[n] != None:\n",
    "                return lc[n] \n",
    "            else:\n",
    "                result = func(n)\n",
    "                lc[n] = result\n",
    "                return result\n",
    "        return wrapper\n",
    "    return decorator"
   ]
  },
  {
   "cell_type": "markdown",
   "metadata": {},
   "source": [
    "#### Проверьте использование декоратора"
   ]
  },
  {
   "cell_type": "code",
   "execution_count": 185,
   "metadata": {},
   "outputs": [],
   "source": [
    "@cached(2)\n",
    "def fact(n):\n",
    "    if n < 2:\n",
    "        return 1\n",
    "    return fact(n-1) * n"
   ]
  },
  {
   "cell_type": "code",
   "execution_count": 186,
   "metadata": {},
   "outputs": [
    {
     "name": "stdout",
     "output_type": "stream",
     "text": [
      "3628800\n"
     ]
    }
   ],
   "source": [
    "print(fact(10))"
   ]
  },
  {
   "cell_type": "markdown",
   "metadata": {},
   "source": [
    "Как видим, результаты работы функции кэшируются"
   ]
  },
  {
   "cell_type": "code",
   "execution_count": 187,
   "metadata": {},
   "outputs": [
    {
     "name": "stdout",
     "output_type": "stream",
     "text": [
      "0:00:00.006180\n"
     ]
    }
   ],
   "source": [
    "start = datetime.now()\n",
    "fact(1000)\n",
    "print(datetime.now() - start)"
   ]
  },
  {
   "cell_type": "code",
   "execution_count": 188,
   "metadata": {},
   "outputs": [
    {
     "name": "stdout",
     "output_type": "stream",
     "text": [
      "0:00:00.000389\n"
     ]
    }
   ],
   "source": [
    "start = datetime.now()\n",
    "fact(1001)\n",
    "print(datetime.now() - start)"
   ]
  },
  {
   "cell_type": "markdown",
   "metadata": {},
   "source": [
    "Содержание кэша можно посмотреть так:"
   ]
  },
  {
   "cell_type": "code",
   "execution_count": 189,
   "metadata": {},
   "outputs": [
    {
     "name": "stdout",
     "output_type": "stream",
     "text": [
      "odict_keys([1000, 1001])\n"
     ]
    }
   ],
   "source": [
    "#print(fact.__closure__[1].cell_contents.storage)\n",
    "#print(fact.__closure__[1].cell_contents.storage.values())\n",
    "print(fact.__closure__[1].cell_contents.storage.keys())"
   ]
  },
  {
   "cell_type": "markdown",
   "metadata": {},
   "source": [
    "#### Сравните свою реализацию с lru_cache из functools"
   ]
  },
  {
   "cell_type": "code",
   "execution_count": 190,
   "metadata": {},
   "outputs": [],
   "source": [
    "from functools import lru_cache\n",
    "\n",
    "@lru_cache(2)\n",
    "def fact2(n):\n",
    "    if n < 2:\n",
    "        return 1\n",
    "    return fact(n-1) * n"
   ]
  },
  {
   "cell_type": "code",
   "execution_count": 191,
   "metadata": {},
   "outputs": [
    {
     "name": "stdout",
     "output_type": "stream",
     "text": [
      "0:00:00.005691\n"
     ]
    }
   ],
   "source": [
    "start = datetime.now()\n",
    "fact2(1000)\n",
    "print(datetime.now() - start)"
   ]
  },
  {
   "cell_type": "code",
   "execution_count": 192,
   "metadata": {},
   "outputs": [
    {
     "name": "stdout",
     "output_type": "stream",
     "text": [
      "0:00:00.000198\n"
     ]
    }
   ],
   "source": [
    "start = datetime.now()\n",
    "fact2(1001)\n",
    "print(datetime.now() - start)"
   ]
  },
  {
   "cell_type": "markdown",
   "metadata": {},
   "source": [
    "Cache из functools работает примерно так же"
   ]
  },
  {
   "cell_type": "markdown",
   "metadata": {},
   "source": [
    "### Дополнительное задание (0.2 балла)\n",
    "\n",
    "Дополните декоратор @cached так, чтобы не пересчитывать функцию при изменения ее состояния (например, она использовала глобальную переменную)"
   ]
  },
  {
   "cell_type": "markdown",
   "metadata": {
    "collapsed": true
   },
   "source": [
    "#### В моей реализации декоратора пересчитывание функции не произойдет при изменении ее состояния"
   ]
  },
  {
   "cell_type": "markdown",
   "metadata": {
    "collapsed": true
   },
   "source": [
    "## 2. Декоратор @checked (0.3 балла)\n",
    "\n",
    "Напишите декоратор, который будет вызывать исключение (raise TypeError), если в него переданы аргументы не тех типов.\n",
    "\n",
    "<b>P. S.</b> Разберитесь с модулем typing.\n",
    "\n",
    "<b>Рекомендации:</b>\n",
    "\n",
    "* Декорируйте wrapper с @functools.wraps(func)\n",
    "* Чтобы кинуть иключение используйте конструкцию типа:\n",
    "<code>\n",
    "if < some_condtion >:\n",
    "    raise TypeError\n",
    "</code>"
   ]
  },
  {
   "cell_type": "code",
   "execution_count": 193,
   "metadata": {},
   "outputs": [],
   "source": [
    "def checked(*types):\n",
    "    def decorator(func):\n",
    "        @functools.wraps(func)\n",
    "        def wrapper(*args, **kwargs):\n",
    "            for t in args:\n",
    "                #print(t)\n",
    "                if type(t) not in types:\n",
    "                    raise TypeError(\"function '\" + func.__name__ + \"' got wrong typed arguments\" )\n",
    "            for key in kwargs.keys():\n",
    "                #print(kwargs[key])\n",
    "                #print(type(kwargs[key]))\n",
    "                if type(kwargs[key]) not in types:\n",
    "                    raise TypeError(\"function '\" + func.__name__ + \"' got wrong typed arguments\" )\n",
    "        return wrapper\n",
    "    return decorator"
   ]
  },
  {
   "cell_type": "markdown",
   "metadata": {},
   "source": [
    "#### Проверьте использование декоратора"
   ]
  },
  {
   "cell_type": "code",
   "execution_count": 194,
   "metadata": {},
   "outputs": [],
   "source": [
    "from typing import List\n",
    "\n",
    "@checked(str, int, list)\n",
    "def strange_func(a: str, b: int, c: List):\n",
    "    pass"
   ]
  },
  {
   "cell_type": "code",
   "execution_count": 195,
   "metadata": {},
   "outputs": [],
   "source": [
    "#strange_func(6, [3], 2)\n",
    "#strange_func(6, 3, 'a')\n",
    "strange_func(4, a = 'd', c = [])"
   ]
  },
  {
   "cell_type": "markdown",
   "metadata": {},
   "source": [
    "## 3. Декоратор @Logger (0.4 балла)\n",
    "\n",
    "Напишите полноценный logger для вызовов вашей функции. Декоратор должен иметь следующие опции:\n",
    "\n",
    "* Выбор файла в который будет производиться запись: sys.stdout, sys.stderr, локальный файл (передается путь к файлу, если файла нет, то создать, иначе дописывать в конец).\n",
    "* Формат записи в логера: \"<i>index data time functio_name \\*args \\**kwargs result</i>\"\n",
    "* Логер должен быть один для всех функций.\n",
    "\n",
    "<b>Рекомендации:</b>\n",
    "\n",
    "* Декорируйте wrapper с @functools.wraps(func)\n",
    "* Создайте отдельный класс Logger для работы с выводом данных вызовов функций в файл."
   ]
  },
  {
   "cell_type": "code",
   "execution_count": 196,
   "metadata": {},
   "outputs": [],
   "source": [
    "import functools\n",
    "from datetime import datetime\n",
    "from __future__ import print_function\n",
    "import sys\n",
    "\n",
    "def logString(index, funcName, args, kwargs, result):\n",
    "    return(str(index) + '   ' + \n",
    "           str(datetime.now().strftime('%Y-%m-%d')) + '   ' + \n",
    "           str(datetime.now().strftime('%H:%M:%S')) + '   ' + \n",
    "           str(funcName) + '   ' + \n",
    "           str(args) + '   '+ str(kwargs) + '  ' + str(result) + '\\n')\n",
    "\n",
    "class Log(object):\n",
    "    index = 0\n",
    "    def __init__(self, func):\n",
    "        self.func = func\n",
    "\n",
    "    def __call__(self, outStream, *args, **kwargs):\n",
    "        result = self.func(*args, **kwargs)\n",
    "        Log.index += 1\n",
    "        if outStream == 1:\n",
    "            print(logString(Log.index, self.func.__name__, args, kwargs, result), file=sys.stderr)\n",
    "        elif type(outStream) == type('routeToFile'):\n",
    "            with open(outStream, 'a+') as file:\n",
    "                file.write(logString(Log.index, self.func.__name__, args, kwargs, result))\n",
    "        else:\n",
    "            print(logString(Log.index, self.func.__name__, args, kwargs, result), file=sys.stdout)\n",
    "        return result"
   ]
  },
  {
   "cell_type": "code",
   "execution_count": 197,
   "metadata": {},
   "outputs": [],
   "source": [
    "def Logger(stdout = 0):\n",
    "    def decorator(func):\n",
    "        @functools.wraps(func)\n",
    "        def wrapper(*args, **kwargs):\n",
    "            log = Log(func)\n",
    "            log(stdout, *args, **kwargs)\n",
    "        return wrapper\n",
    "    return decorator"
   ]
  },
  {
   "cell_type": "markdown",
   "metadata": {},
   "source": [
    "Logger(\"anyFileName.txt\") пишет логи в файл \"anyFileName.txt\"\n",
    "\n",
    "Logger(1) пишет логи в stderr\n",
    "\n",
    "При остальных аргументах запись логов ведется в stdout"
   ]
  },
  {
   "cell_type": "code",
   "execution_count": 198,
   "metadata": {},
   "outputs": [],
   "source": [
    "@Logger()\n",
    "def f(n):\n",
    "    sum = 0\n",
    "    for i in range(n):\n",
    "        sum += i\n",
    "    return sum\n",
    "\n",
    "@Logger(1)\n",
    "def f1(n):\n",
    "    sum = 0\n",
    "    for i in range(n):\n",
    "        sum += i\n",
    "    return sum\n",
    "\n",
    "@Logger(\"myLogger.txt\")\n",
    "def f2(n):\n",
    "    sum = 0\n",
    "    for i in range(n):\n",
    "        sum += i\n",
    "    return sum\n"
   ]
  },
  {
   "cell_type": "code",
   "execution_count": 199,
   "metadata": {},
   "outputs": [
    {
     "name": "stdout",
     "output_type": "stream",
     "text": [
      "1   2018-12-12   23:44:30   f   (7,)   {}  21\n",
      "\n"
     ]
    }
   ],
   "source": [
    "f(7)"
   ]
  },
  {
   "cell_type": "code",
   "execution_count": 200,
   "metadata": {},
   "outputs": [
    {
     "name": "stderr",
     "output_type": "stream",
     "text": [
      "2   2018-12-12   23:44:32   f1   (7,)   {}  21\n",
      "\n"
     ]
    }
   ],
   "source": [
    "f1(7)"
   ]
  },
  {
   "cell_type": "code",
   "execution_count": 201,
   "metadata": {},
   "outputs": [],
   "source": [
    "f2(7)"
   ]
  },
  {
   "cell_type": "code",
   "execution_count": null,
   "metadata": {},
   "outputs": [],
   "source": []
  }
 ],
 "metadata": {
  "kernelspec": {
   "display_name": "Python 3",
   "language": "python",
   "name": "python3"
  },
  "language_info": {
   "codemirror_mode": {
    "name": "ipython",
    "version": 3
   },
   "file_extension": ".py",
   "mimetype": "text/x-python",
   "name": "python",
   "nbconvert_exporter": "python",
   "pygments_lexer": "ipython3",
   "version": "3.5.2"
  }
 },
 "nbformat": 4,
 "nbformat_minor": 2
}
