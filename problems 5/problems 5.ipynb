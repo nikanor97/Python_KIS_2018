{
 "cells": [
  {
   "cell_type": "markdown",
   "metadata": {},
   "source": [
    "# Задание 5"
   ]
  },
  {
   "cell_type": "markdown",
   "metadata": {},
   "source": [
    "## 1. ContextTimer(0.3 балла)\n",
    "Напишите менеджер контекста, который позволит засекать время выполнения блока кода с помощью конструкции with и выводить это время на экран по выходу из блока. Пример использования:\n",
    "\n",
    "<code>\n",
    "with Timer ():\n",
    "    do_some_long_stuff()\n",
    "</code>\n",
    "\n",
    "Рекомендации: используйте стандартную библиотеку для работы со временем.\n",
    "\n",
    "Протестируйте себя."
   ]
  },
  {
   "cell_type": "code",
   "execution_count": 218,
   "metadata": {},
   "outputs": [],
   "source": [
    "import time"
   ]
  },
  {
   "cell_type": "code",
   "execution_count": 219,
   "metadata": {},
   "outputs": [
    {
     "name": "stdout",
     "output_type": "stream",
     "text": [
      "we start doing something\n",
      "we end doing something\n",
      "time spent: 1.0021302700042725 seconds\n"
     ]
    }
   ],
   "source": [
    "def do_some_long_stuff():\n",
    "    print(\"we start doing something\")\n",
    "    time.sleep(1)\n",
    "    print(\"we end doing something\")\n",
    "\n",
    "class Timer():\n",
    "    def __init__(self):\n",
    "        pass\n",
    "    def __enter__(self):\n",
    "        self.start_time = time.time()\n",
    "    def __exit__(self, *args):\n",
    "        self.end_time = time.time()\n",
    "        print(\"time spent: {} seconds\".format(self.end_time - self.start_time))\n",
    "    \n",
    "with Timer():\n",
    "    do_some_long_stuff()"
   ]
  },
  {
   "cell_type": "markdown",
   "metadata": {},
   "source": [
    "## 2.Transaction (0.4 балла)\n",
    "Вам необходимо написать менеджер контекстов, который позволит безопасно работать с транзакциями. Напишите класс Storage, в котором будут храниться какие-то данные в виде словаря. Эти данные должны быть закрытыми и их можно только читать через операцию []. У этого класса должен быть метод edit, который возвращает менеджер контекста, позволяющий редактировать исходный объект (опять же через []). При этом результаты редактирования записываются в исходный объект только если весь блок выполнился успешно. Пример использования:\n",
    "\n",
    "<code>\n",
    "s = Storage()\n",
    "with s.edit() as se :\n",
    "    se[\"a\"] = 1\n",
    "    may_be_an_exception_here()\n",
    "</code>\n",
    "\n",
    "Протестируйте себя."
   ]
  },
  {
   "cell_type": "code",
   "execution_count": 220,
   "metadata": {},
   "outputs": [
    {
     "data": {
      "text/plain": [
       "1"
      ]
     },
     "execution_count": 220,
     "metadata": {},
     "output_type": "execute_result"
    }
   ],
   "source": [
    "class Storage():\n",
    "    def __init__(self):\n",
    "        self.storage = dict()\n",
    "    def edit(self):\n",
    "        return ContextManager(self)\n",
    "    def __setitem__(self, key, value):\n",
    "        self.storage[key] = value\n",
    "    def __getitem__(self, key):\n",
    "        return self.storage[key]\n",
    "    \n",
    "class ContextManager():\n",
    "    def __init__(self, initial_storage):\n",
    "        self.initial_storage = initial_storage\n",
    "        self.tmp_storage = dict()\n",
    "    def __enter__(self):\n",
    "        return self\n",
    "    def __exit__(self, exc_type, exc_value, traceback):\n",
    "        if exc_type is None:\n",
    "            for key in self.tmp_storage:\n",
    "                self.initial_storage[key] = self.tmp_storage[key]\n",
    "    def __setitem__(self, key, value):\n",
    "        self.tmp_storage[key] = value\n",
    "    def __getitem__(self, key):\n",
    "        return self.tmp_storage[key]\n",
    "    \n",
    "\n",
    "s = Storage()\n",
    "with s.edit() as se:\n",
    "    se[\"a\"] = 1\n",
    "    #print(1<'a') #ПРИ РАСКОММЕНТИРОВАНИИ ЭТОЙ СТРОЧКИ, В ОБЪЕКТ s НЕ БУДЕТ ЗАПИСАНО НИЧЕГО \n",
    "s['a']"
   ]
  },
  {
   "cell_type": "code",
   "execution_count": 221,
   "metadata": {},
   "outputs": [
    {
     "name": "stdout",
     "output_type": "stream",
     "text": [
      "1\n"
     ]
    }
   ],
   "source": [
    "print(s['a'])"
   ]
  },
  {
   "cell_type": "markdown",
   "metadata": {},
   "source": [
    "## Phone numbers (0.3)\n",
    "Напишите регулярное выражение для распознавания телефонных номеров и протестируйте себя. Номера, которые должны распознаваться:\n",
    "* 3-22-46\n",
    "* +71239513749\n",
    "* 71239513749\n",
    "* 1239513749\n",
    "* +7(123)-951-37-49\n",
    "* +7(123)9513749\n",
    "* +7-123-9513749\n",
    "* +7-123-951-37-49\n",
    "\n",
    "* 7(123)-951-37-49\n",
    "* 7(123)9513749\n",
    "* 7-123-9513749\n",
    "* 7-123-951-37-49\n",
    "\n",
    "* (123)-951-37-49\n",
    "* (123)9513749\n",
    "* 123-9513749\n",
    "* 123-951-37-49"
   ]
  },
  {
   "cell_type": "code",
   "execution_count": 222,
   "metadata": {},
   "outputs": [],
   "source": [
    "import re "
   ]
  },
  {
   "cell_type": "code",
   "execution_count": 223,
   "metadata": {},
   "outputs": [
    {
     "name": "stdout",
     "output_type": "stream",
     "text": [
      "True\n",
      "True\n",
      "True\n",
      "True\n",
      "True\n",
      "True\n",
      "True\n",
      "True\n",
      "True\n",
      "True\n",
      "True\n",
      "True\n",
      "True\n",
      "True\n",
      "True\n",
      "True\n"
     ]
    }
   ],
   "source": [
    "def check_telephone(number):\n",
    "    if re.fullmatch(\"\\+?\\d?-?\\(?(\\d{3})?\\)?-?(\\d{3}|\\d)-?\\d{2}-?\\d{2}\", number) is not None:\n",
    "        return True\n",
    "    else:\n",
    "        return False\n",
    "\n",
    "print(check_telephone(\"3-22-46\"))\n",
    "print(check_telephone(\"+71239513749\"))\n",
    "print(check_telephone(\"71239513749\"))\n",
    "print(check_telephone(\"1239513749\"))\n",
    "print(check_telephone(\"+7(123)-951-37-49\"))\n",
    "print(check_telephone(\"+7(123)9513749\"))\n",
    "print(check_telephone(\"+7-123-9513749\"))\n",
    "print(check_telephone(\"+7-123-951-37-49\"))\n",
    "print(check_telephone(\"7(123)-951-37-49\"))\n",
    "print(check_telephone(\"7(123)9513749\"))\n",
    "print(check_telephone(\"7-123-9513749\"))\n",
    "print(check_telephone(\"7-123-951-37-49\"))\n",
    "print(check_telephone(\"(123)-951-37-49\"))\n",
    "print(check_telephone(\"(123)9513749\"))\n",
    "print(check_telephone(\"123-9513749\"))\n",
    "print(check_telephone(\"123-951-37-49\"))"
   ]
  }
 ],
 "metadata": {
  "kernelspec": {
   "display_name": "Python 3",
   "language": "python",
   "name": "python3"
  },
  "language_info": {
   "codemirror_mode": {
    "name": "ipython",
    "version": 3
   },
   "file_extension": ".py",
   "mimetype": "text/x-python",
   "name": "python",
   "nbconvert_exporter": "python",
   "pygments_lexer": "ipython3",
   "version": "3.5.2"
  }
 },
 "nbformat": 4,
 "nbformat_minor": 2
}
