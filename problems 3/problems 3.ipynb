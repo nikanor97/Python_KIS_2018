{
 "cells": [
  {
   "cell_type": "markdown",
   "metadata": {},
   "source": [
    "# Задание 3"
   ]
  },
  {
   "cell_type": "markdown",
   "metadata": {},
   "source": [
    "#### CounterGetter (0.1 балл)\n",
    "Реализуйте класс CounterGetter, который на вход принимает произвольное количество именованых аргументов и считает количество обращений к полям и методам класса во всех экземплярах."
   ]
  },
  {
   "cell_type": "code",
   "execution_count": 566,
   "metadata": {},
   "outputs": [],
   "source": [
    "class CounterGetter(object):\n",
    "    \n",
    "    def __init__(self, **kwargs):\n",
    "        self.cnt = 0\n",
    "        pass\n",
    "    \n",
    "    def smth(self):\n",
    "        pass\n",
    "    \n",
    "    def __setattr__(self,name, value):\n",
    "        self.__dict__[name] = value\n",
    "        if name != \"cnt\":\n",
    "            self.__dict__[\"cnt\"] += 1\n",
    "    \n",
    "    def __getattribute__(self, name):\n",
    "        if name != \"cnt\" and name != \"__dict__\":\n",
    "            object.__setattr__(self, \"cnt\", self.__dict__[\"cnt\"] + 1)\n",
    "        return object.__getattribute__(self, name)\n",
    "    \n",
    "    def getCounter(self):\n",
    "        return(self.cnt)\n",
    "        pass"
   ]
  },
  {
   "cell_type": "code",
   "execution_count": 567,
   "metadata": {},
   "outputs": [
    {
     "name": "stdout",
     "output_type": "stream",
     "text": [
      "cg.c =  10\n"
     ]
    },
    {
     "data": {
      "text/plain": [
       "5"
      ]
     },
     "execution_count": 567,
     "metadata": {},
     "output_type": "execute_result"
    }
   ],
   "source": [
    "cg = CounterGetter(a=1,b=2,c=3)\n",
    "cg.c = 10\n",
    "cg.f = 40\n",
    "print(\"cg.c = \", cg.c)\n",
    "cg.smth()\n",
    "\n",
    "cg.getCounter()"
   ]
  },
  {
   "cell_type": "markdown",
   "metadata": {},
   "source": [
    "#### Vector (0.4 балла)"
   ]
  },
  {
   "cell_type": "markdown",
   "metadata": {},
   "source": [
    "Реализуйте класс вектор, который должен обладать следующими свойствами:\n",
    "* Над экземплярами выполняются арифметические операции (+-\\*/). Операции могут выполняться как с числами, так и с векторами. Если второй операнд вектор, то верните их скалярное произведение, если число, выполните поэлементное действие.\n",
    "* Реализуйте доступ к элементам вектора по индексам:\n",
    "\n",
    "<code>vec = Vector(1, 2, 3)\n",
    "\n",
    "vec[0]</code>\n",
    "* Реализуйте умножение вектора на матрицу (Матрица задается двумерным списком).\n",
    "* Поддерживайте методы push_back, pop_back, insert.\n",
    "* Реализуйте поддержку функции len\n",
    "\n",
    "P. S. Запрещается использовать numpy и другие библиотеки по работе с векторами. Рекомендуется представлять элементы вектора как список."
   ]
  },
  {
   "cell_type": "code",
   "execution_count": 568,
   "metadata": {},
   "outputs": [],
   "source": [
    "import math\n",
    "\n",
    "class Vector(object):\n",
    "    def __init__(self, *args):\n",
    "        self.storage = list(args)\n",
    "    \n",
    "    def __pos__(self):\n",
    "        return self\n",
    "    \n",
    "    def __neg__(self):\n",
    "        tmpStorage = list(self.storage)\n",
    "        for i in range(len(tmpStorage)):\n",
    "            tmpStorage[i] = -tmpStorage[i]\n",
    "        return Vector(*tmpStorage)\n",
    "    \n",
    "    def __add__(self, other):\n",
    "        if type(other) != Vector:\n",
    "            raise TypeError(\"second argument has distinct from 'Vector' type\")\n",
    "        if len(self) != len(other):\n",
    "            raise ValueError(\"vectors must have same sizes\")\n",
    "        tmpStorage = list(self.storage)\n",
    "        for i in range(len(tmpStorage)):\n",
    "            tmpStorage[i] += other.storage[i]\n",
    "        return Vector(*tmpStorage)\n",
    "    \n",
    "    def __sub__(self, other):\n",
    "        if type(other) != Vector:\n",
    "            raise TypeError(\"second argument has distinct from 'Vector' type\")\n",
    "        if len(self) != len(other):\n",
    "            raise ValueError(\"vectors must have same sizes\")\n",
    "        tmpStorage = list(self.storage)\n",
    "        for i in range(len(tmpStorage)):\n",
    "            tmpStorage[i] -= other.storage[i]\n",
    "        return Vector(*tmpStorage)\n",
    "        \n",
    "    def __mul__(self, other):\n",
    "        if type(other) == type(1) or type(other) == type(1.1):\n",
    "            tmpStorage = list(self.storage)\n",
    "            for i in range(len(tmpStorage)):\n",
    "                tmpStorage[i] = tmpStorage[i] * other\n",
    "            return Vector(*tmpStorage)\n",
    "        if type(other) == Vector:\n",
    "            if len(self) != len(other):\n",
    "                raise ValueError(\"vectors must have same sizes\")\n",
    "            tmpStorage = list(self.storage)\n",
    "            for i in range(len(tmpStorage)):\n",
    "                tmpStorage[i] = tmpStorage[i] * other[i]\n",
    "            return Vector(*tmpStorage)\n",
    "        else: \n",
    "            raise TypeError(\"second argument must be 'int' or 'double' or 'Vector'\")\n",
    "            \n",
    "    def __truediv__(self, other):\n",
    "        if type(other) == type(1) or type(other) == type(1.1):\n",
    "            if other == 0:\n",
    "                raise ZeroDivisionError(\"division by zero\");\n",
    "            tmpStorage = list(self.storage)\n",
    "            for i in range(len(tmpStorage)):\n",
    "                tmpStorage[i] = tmpStorage[i] / other\n",
    "            return Vector(*tmpStorage)\n",
    "        else: \n",
    "            raise TypeError(\"second argument must be 'int' or 'double'\")\n",
    "    \n",
    "    def __getitem__(self, key):\n",
    "        return self.storage[key]\n",
    "    \n",
    "    def __setitem__(self, key, value):\n",
    "        self.storage[key] = value\n",
    "        \n",
    "    def push_back(self, value):\n",
    "        self.storage.append(value)\n",
    "        \n",
    "    def pop_back(self):\n",
    "        if len(self) == 0:\n",
    "            raise IndexError(\"vector length is 0\")\n",
    "        element = self.storage.pop()\n",
    "        return element\n",
    "    \n",
    "    def insert(self, value, position):\n",
    "        self.storage.insert(value, position)\n",
    "        \n",
    "    def matrix_mult(self, matrix):\n",
    "        if len(self) != len(matrix):\n",
    "            raise ValueError(\"vectors must have same size as number of rows in matrix\")\n",
    "        tmpMatrix = matrix\n",
    "        for i in range(len(matrix)):\n",
    "            for j in range(len(matrix[i])):\n",
    "                tmpMatrix[j][i] *= self[i]\n",
    "        return tmpMatrix\n",
    "        \n",
    "    def __len__(self):\n",
    "        return len(self.storage)\n",
    "    \n",
    "    def __str__(self):\n",
    "        return str(self.storage)"
   ]
  },
  {
   "cell_type": "code",
   "execution_count": 569,
   "metadata": {},
   "outputs": [
    {
     "name": "stdout",
     "output_type": "stream",
     "text": [
      "\n",
      "v = Vector(1,2,4,6)\n",
      "u = Vector(5, 3, 6, 8)\n",
      "t = Vector()\n",
      "\n",
      "Invocation by index: v[2] =  7\n",
      "Unary minus: v[2] =  -7\n",
      "Length function: len(v) =  4\n",
      "Sum function: v + v =  [-2, -4, -14, -12]\n",
      "Substraction function: v - u =  [-6, -5, -13, -14]\n",
      "Multiplication by int: v * 10 =  [-10, -20, -70, -60]\n",
      "Multiplication by Vector: v * u =  [-5, -6, -42, -48]\n",
      "Division by integer: v / 6 =  [-0.16666666666666666, -0.3333333333333333, -1.1666666666666667, -1.0]\n",
      "Push back test:\n",
      "\tv =  [-1, -2, -7, -6]\n",
      "\tv.push_back(100)\n",
      "\tv [-1, -2, -7, -6, 100]\n",
      "Pop back test:\n",
      "\tv =  [-1, -2, -7, -6, 100]\n",
      "\tv.pop_back()\n",
      "\tv [-1, -2, -7, -6]\n",
      "Insert test:\n",
      "\tv =  [-1, -2, -7, -6]\n",
      "\tv.insert(1, 765)\n",
      "\tv [-1, 765, -2, -7, -6]\n",
      "Multiplication by matrix:\n",
      "\tVector:  [2, 4]\n",
      "\tmatrix:  [[7, 6], [4, 8]]\n",
      "\tresult:  [[14, 24], [8, 32]]\n"
     ]
    }
   ],
   "source": [
    "v = Vector(1,2,7,6)\n",
    "u = Vector(5, 3, 6, 8)\n",
    "t = Vector()\n",
    "\n",
    "print('''\n",
    "v = Vector(1,2,4,6)\n",
    "u = Vector(5, 3, 6, 8)\n",
    "t = Vector()\n",
    "''')\n",
    "\n",
    "print(\"Invocation by index: v[2] = \", v[2])\n",
    "v = -v\n",
    "print(\"Unary minus: v[2] = \", v[2])\n",
    "print(\"Length function: len(v) = \", len(v))\n",
    "print(\"Sum function: v + v = \", v + v)\n",
    "print(\"Substraction function: v - u = \",v - u)\n",
    "print(\"Multiplication by int: v * 10 = \", v * 10)\n",
    "print(\"Multiplication by Vector: v * u = \", v * u)\n",
    "print(\"Division by integer: v / 6 = \", v / 6)\n",
    "\n",
    "print(\"Push back test:\")\n",
    "print(\"\\tv = \", v)\n",
    "v.push_back(100)\n",
    "print(\"\\tv.push_back(100)\")\n",
    "print(\"\\tv\", v)\n",
    "\n",
    "print(\"Pop back test:\")\n",
    "print(\"\\tv = \", v)\n",
    "v.pop_back()\n",
    "print(\"\\tv.pop_back()\")\n",
    "print(\"\\tv\", v)\n",
    "\n",
    "print(\"Insert test:\")\n",
    "print(\"\\tv = \", v)\n",
    "v.insert(1, 765)\n",
    "print(\"\\tv.insert(1, 765)\")\n",
    "print(\"\\tv\", v)\n",
    "\n",
    "print(\"Multiplication by matrix:\")\n",
    "matrix = [[7, 6],[4, 8]]\n",
    "r = Vector(2, 4)\n",
    "print(\"\\tVector: \",r)\n",
    "print(\"\\tmatrix: \", matrix)\n",
    "print(\"\\tresult: \", r.matrix_mult(matrix))"
   ]
  },
  {
   "cell_type": "markdown",
   "metadata": {},
   "source": [
    "#### Table (0.5 баллов)"
   ]
  },
  {
   "cell_type": "markdown",
   "metadata": {},
   "source": [
    "Реализуйте класс для работы с таблицами. Класс должен обладать следующей функциональностью:\n",
    "\n",
    "* Таблица может задаваться как двумерным списком, так и читаться из файла. Если читается из файла, то должен быть указан разделитель.\n",
    "\n",
    "* Обладать возможностью задания названия колонок (по номеру, если не задано). Если читается из файла и задан параметр наличия именованных колонок, то первая строчка файла отвечает за названия колонок.\n",
    "\n",
    "* Реализуйте доступ к колонкам по названю и по индекс:\n",
    "\n",
    "<code>t = Table()\n",
    "\n",
    "t[\"index\"]</code>\n",
    "\n",
    "* Реализуйте функции head и tail, которые показывают заданное число строк с начала и с конца соответственно.\n",
    "* Реадизуйте методы unique и count, которые выводят все уникальные элементы для таблицы или для заданного столбца:\n",
    "\n",
    "<code>\n",
    "\n",
    "t[\"sex\"].unique()\n",
    "\n",
    "t.unique()\n",
    "\n",
    "</code>"
   ]
  },
  {
   "cell_type": "code",
   "execution_count": 570,
   "metadata": {},
   "outputs": [],
   "source": [
    "class Table(object):\n",
    "    def __init__(self, *args):\n",
    "        self.colName = False\n",
    "        if len(args) == 1:\n",
    "            self.matrix = args[0]\n",
    "        elif len(args) == 2 or len(args) == 3:\n",
    "            if len(args) == 3:\n",
    "                self.colName = args[2]\n",
    "            filename = args[0]\n",
    "            delimiter = args[1]\n",
    "            with open(filename, 'r', encoding='utf-8') as file:\n",
    "                self.matrix = []\n",
    "                item = '1'\n",
    "                matrRow = -1\n",
    "                matrPos = 0\n",
    "                changeRow = True\n",
    "                for row in file:\n",
    "                    if changeRow == True:\n",
    "                        matrRow +=1\n",
    "                        matrPos = 0\n",
    "                        self.matrix.append(list())\n",
    "                        self.matrix[matrRow].append(str(''))\n",
    "                        changeRow = False\n",
    "                    for item in row:\n",
    "                        if item == ' ':\n",
    "                            matrPos += 1\n",
    "                            self.matrix[matrRow].append(str())\n",
    "                            continue\n",
    "                        if item == delimiter:\n",
    "                            changeRow = True\n",
    "                            break\n",
    "                        self.matrix[matrRow][matrPos] += str(item)                    \n",
    "        else:\n",
    "            raise TypeError(\"Table() takes 1 or 2 arguments\")\n",
    "            \n",
    "    def getTable(self):\n",
    "        return self.matrix\n",
    "    \n",
    "    def __getitem__(self, key):\n",
    "        column = list()\n",
    "        columnIndex = 0\n",
    "        if self.colName:\n",
    "            if str(key) not in self.matrix[0]:\n",
    "                raise IndexError(\"no such column in table\")\n",
    "            columnIndex = self.matrix[0].index(str(key))\n",
    "            for row in self.matrix[1:]:\n",
    "                column.append(row[columnIndex])\n",
    "        else:\n",
    "            if key >= len(self.matrix[0]):\n",
    "                raise IndexError(\"index out of columns range\")\n",
    "            columnIndex = key\n",
    "            for row in self.matrix:\n",
    "                column.append(row[columnIndex])\n",
    "        return Column(column)\n",
    "    \n",
    "    def head(self, *args):\n",
    "        head = list()\n",
    "        numRows = 0\n",
    "        if len(args) > 1:\n",
    "            raise ValueError(\"'head' function gets 0 or 1 argument\")\n",
    "        if len(args) == 1 and self.colName:\n",
    "            numRows = args[0] + 1\n",
    "        elif len(args) == 1 and not self.colName:\n",
    "            numRows = args[0]\n",
    "        elif len(args) == 0 and self.colName:\n",
    "            numRows = min(6, len(self.matrix))\n",
    "        elif len(args) == 0 and not self.colName:\n",
    "            numRows = min(5, len(self.matrix))\n",
    "        head = Table(self.matrix[:numRows])\n",
    "        head.colName = self.colName\n",
    "        return head\n",
    "    \n",
    "    def tail(self, *args):\n",
    "        tail = list()\n",
    "        numRows = 0\n",
    "        if len(args) > 1:\n",
    "            raise ValueError(\"'tail' function gets 0 or 1 argument\")\n",
    "        if len(args) == 1 and self.colName:\n",
    "            numRows = min(args[0], len(self.matrix) - 1)\n",
    "        elif len(args) == 1 and not self.colName:\n",
    "            numRows = min(args[0], len(self.matrix))\n",
    "        else:\n",
    "            numRows = min(5, len(self.matrix))\n",
    "        if self.colName:\n",
    "            tail = Table(self.matrix[-numRows:])\n",
    "            tail.matrix.insert(0, self.matrix[0])\n",
    "        else:\n",
    "            tail = Table(self.matrix[-numRows:])\n",
    "        tail.colName = self.colName\n",
    "        return tail\n",
    "    \n",
    "    def unique(self):\n",
    "        tmpSet = set()\n",
    "        if self.colName:\n",
    "            for row in self.matrix[1:]:\n",
    "                for item in row:\n",
    "                    tmpSet.add(item)\n",
    "        else:\n",
    "            for row in self.matrix:\n",
    "                for item in row:\n",
    "                    tmpSet.add(item)\n",
    "        return list(tmpSet)\n",
    "    \n",
    "    def count(self, value):\n",
    "        cnt = 0\n",
    "        if self.colName:\n",
    "            for row in self.matrix[1:]:\n",
    "                for item in row:\n",
    "                    if item == value:\n",
    "                        cnt += 1\n",
    "        else:\n",
    "            for row in self.matrix:\n",
    "                for item in row:\n",
    "                    if item == value:\n",
    "                        cnt += 1\n",
    "        return cnt\n",
    "            \n",
    "    def __str__(self):\n",
    "        result = str()\n",
    "        firstItemInRow = True\n",
    "        firstRow = True\n",
    "        if self.colName:\n",
    "            result += self.matrix[0][0]\n",
    "            for item in self.matrix[0][1:]:\n",
    "                result += '\\t' + item\n",
    "        else:\n",
    "            result += '0'\n",
    "            for item in range(1, len(self.matrix[0][1:]) + 1):\n",
    "                result += '\\t' + str(item)\n",
    "        result += '\\n'\n",
    "        for i in range(len(self.matrix[0])):\n",
    "            for j in range(7):\n",
    "                result += '_'\n",
    "            result += '\\t'\n",
    "        result += '\\n'\n",
    "        tmpMatrix = list()\n",
    "        if self.colName:\n",
    "            tmpMatrix = self.matrix[1:]\n",
    "        else:\n",
    "            tmpMatrix = self.matrix\n",
    "        for row in tmpMatrix:\n",
    "            if firstRow:\n",
    "                firstRow = False\n",
    "            else:\n",
    "                result += '\\n'\n",
    "            for item in row:\n",
    "                if firstItemInRow:\n",
    "                    result += item\n",
    "                    firstItemInRow = False\n",
    "                    continue\n",
    "                else:\n",
    "                    result += '\\t' + item\n",
    "            firstItemInRow = True\n",
    "        return result\n",
    "                "
   ]
  },
  {
   "cell_type": "code",
   "execution_count": 571,
   "metadata": {},
   "outputs": [],
   "source": [
    "class Column(object):\n",
    "    def __init__(self, arr):\n",
    "        self.arr = arr\n",
    "        \n",
    "    def __str__(self):\n",
    "        result = str()\n",
    "        result += str(self.arr[0])\n",
    "        for item in self.arr[1:]:\n",
    "            result += '\\n' + str(item)\n",
    "        return result\n",
    "    \n",
    "    def unique(self):\n",
    "        tmpSet = set()\n",
    "        for item in self.arr:\n",
    "            tmpSet.add(item)\n",
    "        return list(tmpSet)\n",
    "    \n",
    "    def count(self, value):\n",
    "        cnt = 0\n",
    "        for item in self.arr:\n",
    "            if item == value:\n",
    "                cnt += 1\n",
    "        return cnt"
   ]
  },
  {
   "cell_type": "markdown",
   "metadata": {},
   "source": [
    "# Testing"
   ]
  },
  {
   "cell_type": "markdown",
   "metadata": {},
   "source": [
    "### Read from file without columns specification"
   ]
  },
  {
   "cell_type": "code",
   "execution_count": 572,
   "metadata": {
    "scrolled": false
   },
   "outputs": [
    {
     "name": "stdout",
     "output_type": "stream",
     "text": [
      "0\t1\t2\t3\n",
      "_______\t_______\t_______\t_______\t\n",
      "Alfred\tbore\tc\td\n",
      "1yer3\tfg2\t3r8g7\t4w\n",
      "y\tr\th\tu\n",
      "hty\twerf\tju\twv\n",
      "rge\thrt\txw\tthRhTYhj\n",
      "rj\twerf\ty7j65j\tdqw\n",
      "hr56tj\twdkrje\tjrf\twerf\n"
     ]
    }
   ],
   "source": [
    "t = Table(\"sample_table.csv\", \"\\n\", False)\n",
    "print(t)"
   ]
  },
  {
   "cell_type": "markdown",
   "metadata": {},
   "source": [
    "### Read from file with columns specification"
   ]
  },
  {
   "cell_type": "code",
   "execution_count": 573,
   "metadata": {},
   "outputs": [
    {
     "name": "stdout",
     "output_type": "stream",
     "text": [
      "Alfred\tbore\tc\td\n",
      "_______\t_______\t_______\t_______\t\n",
      "1yer3\tfg2\t3r8g7\t4w\n",
      "y\tr\th\tu\n",
      "hty\twerf\tju\twv\n",
      "rge\thrt\txw\tthRhTYhj\n",
      "rj\twerf\ty7j65j\tdqw\n",
      "hr56tj\twdkrje\tjrf\twerf\n"
     ]
    }
   ],
   "source": [
    "t = Table(\"sample_table.csv\", \"\\n\", True)\n",
    "print(t)"
   ]
  },
  {
   "cell_type": "markdown",
   "metadata": {},
   "source": [
    "### Read from two-dimensional list"
   ]
  },
  {
   "cell_type": "code",
   "execution_count": 574,
   "metadata": {},
   "outputs": [
    {
     "name": "stdout",
     "output_type": "stream",
     "text": [
      "0\t1\t2\n",
      "_______\t_______\t_______\t\n",
      "wec\twcer\twkh\n",
      "h\t4tg\tth\n",
      "w4w\t6u7j\t45het\n"
     ]
    }
   ],
   "source": [
    "t = Table([['wec','wcer','wkh'],['h','4tg','th'],['w4w','6u7j','45het']])\n",
    "print(t)"
   ]
  },
  {
   "cell_type": "markdown",
   "metadata": {},
   "source": [
    "### Get column by column name"
   ]
  },
  {
   "cell_type": "code",
   "execution_count": 575,
   "metadata": {},
   "outputs": [
    {
     "name": "stdout",
     "output_type": "stream",
     "text": [
      "1yer3\n",
      "y\n",
      "hty\n",
      "rge\n",
      "rj\n",
      "hr56tj\n"
     ]
    }
   ],
   "source": [
    "t = Table(\"sample_table.csv\", \"\\n\", True)\n",
    "print(t['Alfred'])"
   ]
  },
  {
   "cell_type": "markdown",
   "metadata": {},
   "source": [
    "### Get column by index"
   ]
  },
  {
   "cell_type": "code",
   "execution_count": 576,
   "metadata": {},
   "outputs": [
    {
     "name": "stdout",
     "output_type": "stream",
     "text": [
      "bore\n",
      "fg2\n",
      "r\n",
      "werf\n",
      "hrt\n",
      "werf\n",
      "wdkrje\n"
     ]
    }
   ],
   "source": [
    "t = Table(\"sample_table.csv\", \"\\n\", False)\n",
    "print(t[1])"
   ]
  },
  {
   "cell_type": "markdown",
   "metadata": {},
   "source": [
    "### Head function for table without column specification"
   ]
  },
  {
   "cell_type": "code",
   "execution_count": 577,
   "metadata": {},
   "outputs": [
    {
     "name": "stdout",
     "output_type": "stream",
     "text": [
      "0\t1\t2\t3\n",
      "_______\t_______\t_______\t_______\t\n",
      "Alfred\tbore\tc\td\n",
      "1yer3\tfg2\t3r8g7\t4w\n",
      "y\tr\th\tu\n",
      "hty\twerf\tju\twv\n",
      "rge\thrt\txw\tthRhTYhj\n",
      "\n",
      "\n",
      "\n",
      "0\t1\t2\t3\n",
      "_______\t_______\t_______\t_______\t\n",
      "Alfred\tbore\tc\td\n",
      "\n",
      "\n",
      "\n",
      "0\t1\t2\t3\n",
      "_______\t_______\t_______\t_______\t\n",
      "Alfred\tbore\tc\td\n",
      "1yer3\tfg2\t3r8g7\t4w\n",
      "y\tr\th\tu\n",
      "hty\twerf\tju\twv\n",
      "rge\thrt\txw\tthRhTYhj\n",
      "rj\twerf\ty7j65j\tdqw\n",
      "hr56tj\twdkrje\tjrf\twerf\n"
     ]
    }
   ],
   "source": [
    "t = Table(\"sample_table.csv\", \"\\n\", False)\n",
    "print(t.head())\n",
    "print('\\n\\n')\n",
    "print(t.head(1))\n",
    "print('\\n\\n')\n",
    "print(t.head(10))"
   ]
  },
  {
   "cell_type": "markdown",
   "metadata": {},
   "source": [
    "### Head function for table with column specification"
   ]
  },
  {
   "cell_type": "code",
   "execution_count": 578,
   "metadata": {},
   "outputs": [
    {
     "name": "stdout",
     "output_type": "stream",
     "text": [
      "Alfred\tbore\tc\td\n",
      "_______\t_______\t_______\t_______\t\n",
      "1yer3\tfg2\t3r8g7\t4w\n",
      "y\tr\th\tu\n",
      "hty\twerf\tju\twv\n",
      "rge\thrt\txw\tthRhTYhj\n",
      "rj\twerf\ty7j65j\tdqw\n",
      "\n",
      "\n",
      "\n",
      "Alfred\tbore\tc\td\n",
      "_______\t_______\t_______\t_______\t\n",
      "1yer3\tfg2\t3r8g7\t4w\n",
      "\n",
      "\n",
      "\n",
      "Alfred\tbore\tc\td\n",
      "_______\t_______\t_______\t_______\t\n",
      "1yer3\tfg2\t3r8g7\t4w\n",
      "y\tr\th\tu\n",
      "hty\twerf\tju\twv\n",
      "rge\thrt\txw\tthRhTYhj\n",
      "rj\twerf\ty7j65j\tdqw\n",
      "hr56tj\twdkrje\tjrf\twerf\n"
     ]
    }
   ],
   "source": [
    "t = Table(\"sample_table.csv\", \"\\n\", True)\n",
    "print(t.head())\n",
    "print('\\n\\n')\n",
    "print(t.head(1))\n",
    "print('\\n\\n')\n",
    "print(t.head(10))"
   ]
  },
  {
   "cell_type": "markdown",
   "metadata": {},
   "source": [
    "### Tail function for table without column specification"
   ]
  },
  {
   "cell_type": "code",
   "execution_count": 579,
   "metadata": {},
   "outputs": [
    {
     "name": "stdout",
     "output_type": "stream",
     "text": [
      "0\t1\t2\t3\n",
      "_______\t_______\t_______\t_______\t\n",
      "y\tr\th\tu\n",
      "hty\twerf\tju\twv\n",
      "rge\thrt\txw\tthRhTYhj\n",
      "rj\twerf\ty7j65j\tdqw\n",
      "hr56tj\twdkrje\tjrf\twerf\n",
      "\n",
      "\n",
      "\n",
      "0\t1\t2\t3\n",
      "_______\t_______\t_______\t_______\t\n",
      "hr56tj\twdkrje\tjrf\twerf\n",
      "\n",
      "\n",
      "\n",
      "0\t1\t2\t3\n",
      "_______\t_______\t_______\t_______\t\n",
      "Alfred\tbore\tc\td\n",
      "1yer3\tfg2\t3r8g7\t4w\n",
      "y\tr\th\tu\n",
      "hty\twerf\tju\twv\n",
      "rge\thrt\txw\tthRhTYhj\n",
      "rj\twerf\ty7j65j\tdqw\n",
      "hr56tj\twdkrje\tjrf\twerf\n"
     ]
    }
   ],
   "source": [
    "t = Table(\"sample_table.csv\", \"\\n\", False)\n",
    "print(t.tail())\n",
    "print('\\n\\n')\n",
    "print(t.tail(1))\n",
    "print('\\n\\n')\n",
    "print(t.tail(10))"
   ]
  },
  {
   "cell_type": "markdown",
   "metadata": {},
   "source": [
    "### Tail function for table with column specification"
   ]
  },
  {
   "cell_type": "code",
   "execution_count": 580,
   "metadata": {},
   "outputs": [
    {
     "name": "stdout",
     "output_type": "stream",
     "text": [
      "Alfred\tbore\tc\td\n",
      "_______\t_______\t_______\t_______\t\n",
      "y\tr\th\tu\n",
      "hty\twerf\tju\twv\n",
      "rge\thrt\txw\tthRhTYhj\n",
      "rj\twerf\ty7j65j\tdqw\n",
      "hr56tj\twdkrje\tjrf\twerf\n",
      "\n",
      "\n",
      "\n",
      "Alfred\tbore\tc\td\n",
      "_______\t_______\t_______\t_______\t\n",
      "hr56tj\twdkrje\tjrf\twerf\n",
      "\n",
      "\n",
      "\n",
      "Alfred\tbore\tc\td\n",
      "_______\t_______\t_______\t_______\t\n",
      "1yer3\tfg2\t3r8g7\t4w\n",
      "y\tr\th\tu\n",
      "hty\twerf\tju\twv\n",
      "rge\thrt\txw\tthRhTYhj\n",
      "rj\twerf\ty7j65j\tdqw\n",
      "hr56tj\twdkrje\tjrf\twerf\n"
     ]
    }
   ],
   "source": [
    "t = Table(\"sample_table.csv\", \"\\n\", True)\n",
    "print(t.tail())\n",
    "print('\\n\\n')\n",
    "print(t.tail(1))\n",
    "print('\\n\\n')\n",
    "print(t.tail(10))"
   ]
  },
  {
   "cell_type": "markdown",
   "metadata": {},
   "source": [
    "### Unique function"
   ]
  },
  {
   "cell_type": "code",
   "execution_count": 581,
   "metadata": {},
   "outputs": [
    {
     "name": "stdout",
     "output_type": "stream",
     "text": [
      "['hrt', '4w', 'y7j65j', 'werf', 'y', 'dqw', 'u', 'fg2', 'hty', 'wdkrje', 'jrf', 'h', '1yer3', 'hr56tj', 'r', 'rge', 'xw', 'thRhTYhj', 'wv', 'ju', 'rj', '3r8g7']\n",
      "\n",
      "\n",
      "\n",
      "['rge', 'hty', '1yer3', 'rj', 'y', 'hr56tj']\n"
     ]
    }
   ],
   "source": [
    "t = Table(\"sample_table.csv\", \"\\n\", True)\n",
    "print(t.unique())\n",
    "print('\\n\\n')\n",
    "print(t['Alfred'].unique())"
   ]
  },
  {
   "cell_type": "markdown",
   "metadata": {},
   "source": [
    "### Count function"
   ]
  },
  {
   "cell_type": "code",
   "execution_count": 582,
   "metadata": {},
   "outputs": [
    {
     "name": "stdout",
     "output_type": "stream",
     "text": [
      "3\n",
      "\n",
      "\n",
      "2\n"
     ]
    }
   ],
   "source": [
    "t = Table(\"sample_table.csv\", \"\\n\", True)\n",
    "print(t.count('werf'))\n",
    "print('\\n')\n",
    "print(t['bore'].count('werf'))"
   ]
  }
 ],
 "metadata": {
  "kernelspec": {
   "display_name": "Python 3",
   "language": "python",
   "name": "python3"
  },
  "language_info": {
   "codemirror_mode": {
    "name": "ipython",
    "version": 3
   },
   "file_extension": ".py",
   "mimetype": "text/x-python",
   "name": "python",
   "nbconvert_exporter": "python",
   "pygments_lexer": "ipython3",
   "version": "3.5.2"
  }
 },
 "nbformat": 4,
 "nbformat_minor": 2
}
